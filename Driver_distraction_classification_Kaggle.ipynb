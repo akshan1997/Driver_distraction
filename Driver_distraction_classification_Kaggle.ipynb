{
  "nbformat": 4,
  "nbformat_minor": 0,
  "metadata": {
    "colab": {
      "name": "Driver_distraction_classification_Kaggle.ipynb",
      "provenance": [],
      "collapsed_sections": [],
      "mount_file_id": "1ya3p96NgW4uM11RfZcYL0b0zEhhjMhB4",
      "authorship_tag": "ABX9TyNx3vt85BxuMzNzMntja9uB",
      "include_colab_link": true
    },
    "kernelspec": {
      "name": "python3",
      "display_name": "Python 3"
    },
    "language_info": {
      "name": "python"
    }
  },
  "cells": [
    {
      "cell_type": "markdown",
      "metadata": {
        "id": "view-in-github",
        "colab_type": "text"
      },
      "source": [
        "<a href=\"https://colab.research.google.com/github/akshan1997/Driver_distraction/blob/main/Driver_distraction_classification_Kaggle.ipynb\" target=\"_parent\"><img src=\"https://colab.research.google.com/assets/colab-badge.svg\" alt=\"Open In Colab\"/></a>"
      ]
    },
    {
      "cell_type": "code",
      "execution_count": 1,
      "metadata": {
        "id": "6xI8Xwdmv1EQ"
      },
      "outputs": [],
      "source": [
        "import pandas as pd\n",
        "import numpy as np"
      ]
    },
    {
      "cell_type": "code",
      "source": [
        ""
      ],
      "metadata": {
        "id": "-tkWb8_8v-Lh"
      },
      "execution_count": null,
      "outputs": []
    }
  ]
}